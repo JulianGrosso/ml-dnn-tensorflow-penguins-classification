{
  "cells": [
    {
      "attachments": {},
      "cell_type": "markdown",
      "metadata": {
        "id": "wYgajnpXwMcJ"
      },
      "source": [
        "# Deep Neural Networks - TensorFlow - Penguin Classification\n",
        "\n",
        "_ENG_\n",
        "<br>\n",
        "**Challenge**: Train a DNN-based classification model with TensorFlow to analyze the characteristics of different penguins and classify them based on their species.\n",
        "\n",
        "_ESP_\n",
        "<br>\n",
        "**Desafío**: Entrenar un modelo de clasificación basado en DNN con TensorFlow para analizar las características de distintos pingüinos y clasificarlos en función de su especie.\n",
        "\n",
        "---\n"
      ]
    },
    {
      "cell_type": "code",
      "execution_count": null,
      "metadata": {
        "colab": {
          "base_uri": "https://localhost:8080/",
          "height": 206
        },
        "id": "Ylxwx3Xe2EC8",
        "outputId": "d96f2001-c791-413c-9dfd-02b2cfdc75f1"
      },
      "outputs": [
        {
          "data": {
            "text/html": [
              "\n",
              "  <div id=\"df-b4d3c6ae-b3a1-48d1-8e97-458042657004\">\n",
              "    <div class=\"colab-df-container\">\n",
              "      <div>\n",
              "<style scoped>\n",
              "    .dataframe tbody tr th:only-of-type {\n",
              "        vertical-align: middle;\n",
              "    }\n",
              "\n",
              "    .dataframe tbody tr th {\n",
              "        vertical-align: top;\n",
              "    }\n",
              "\n",
              "    .dataframe thead th {\n",
              "        text-align: right;\n",
              "    }\n",
              "</style>\n",
              "<table border=\"1\" class=\"dataframe\">\n",
              "  <thead>\n",
              "    <tr style=\"text-align: right;\">\n",
              "      <th></th>\n",
              "      <th>CulmenLength</th>\n",
              "      <th>CulmenDepth</th>\n",
              "      <th>FlipperLength</th>\n",
              "      <th>BodyMass</th>\n",
              "      <th>Species</th>\n",
              "    </tr>\n",
              "  </thead>\n",
              "  <tbody>\n",
              "    <tr>\n",
              "      <th>0</th>\n",
              "      <td>39.1</td>\n",
              "      <td>18.7</td>\n",
              "      <td>181.0</td>\n",
              "      <td>3750.0</td>\n",
              "      <td>0</td>\n",
              "    </tr>\n",
              "    <tr>\n",
              "      <th>1</th>\n",
              "      <td>39.5</td>\n",
              "      <td>17.4</td>\n",
              "      <td>186.0</td>\n",
              "      <td>3800.0</td>\n",
              "      <td>0</td>\n",
              "    </tr>\n",
              "    <tr>\n",
              "      <th>2</th>\n",
              "      <td>40.3</td>\n",
              "      <td>18.0</td>\n",
              "      <td>195.0</td>\n",
              "      <td>3250.0</td>\n",
              "      <td>0</td>\n",
              "    </tr>\n",
              "    <tr>\n",
              "      <th>4</th>\n",
              "      <td>36.7</td>\n",
              "      <td>19.3</td>\n",
              "      <td>193.0</td>\n",
              "      <td>3450.0</td>\n",
              "      <td>0</td>\n",
              "    </tr>\n",
              "    <tr>\n",
              "      <th>5</th>\n",
              "      <td>39.3</td>\n",
              "      <td>20.6</td>\n",
              "      <td>190.0</td>\n",
              "      <td>3650.0</td>\n",
              "      <td>0</td>\n",
              "    </tr>\n",
              "  </tbody>\n",
              "</table>\n",
              "</div>\n",
              "      <button class=\"colab-df-convert\" onclick=\"convertToInteractive('df-b4d3c6ae-b3a1-48d1-8e97-458042657004')\"\n",
              "              title=\"Convert this dataframe to an interactive table.\"\n",
              "              style=\"display:none;\">\n",
              "        \n",
              "  <svg xmlns=\"http://www.w3.org/2000/svg\" height=\"24px\"viewBox=\"0 0 24 24\"\n",
              "       width=\"24px\">\n",
              "    <path d=\"M0 0h24v24H0V0z\" fill=\"none\"/>\n",
              "    <path d=\"M18.56 5.44l.94 2.06.94-2.06 2.06-.94-2.06-.94-.94-2.06-.94 2.06-2.06.94zm-11 1L8.5 8.5l.94-2.06 2.06-.94-2.06-.94L8.5 2.5l-.94 2.06-2.06.94zm10 10l.94 2.06.94-2.06 2.06-.94-2.06-.94-.94-2.06-.94 2.06-2.06.94z\"/><path d=\"M17.41 7.96l-1.37-1.37c-.4-.4-.92-.59-1.43-.59-.52 0-1.04.2-1.43.59L10.3 9.45l-7.72 7.72c-.78.78-.78 2.05 0 2.83L4 21.41c.39.39.9.59 1.41.59.51 0 1.02-.2 1.41-.59l7.78-7.78 2.81-2.81c.8-.78.8-2.07 0-2.86zM5.41 20L4 18.59l7.72-7.72 1.47 1.35L5.41 20z\"/>\n",
              "  </svg>\n",
              "      </button>\n",
              "      \n",
              "  <style>\n",
              "    .colab-df-container {\n",
              "      display:flex;\n",
              "      flex-wrap:wrap;\n",
              "      gap: 12px;\n",
              "    }\n",
              "\n",
              "    .colab-df-convert {\n",
              "      background-color: #E8F0FE;\n",
              "      border: none;\n",
              "      border-radius: 50%;\n",
              "      cursor: pointer;\n",
              "      display: none;\n",
              "      fill: #1967D2;\n",
              "      height: 32px;\n",
              "      padding: 0 0 0 0;\n",
              "      width: 32px;\n",
              "    }\n",
              "\n",
              "    .colab-df-convert:hover {\n",
              "      background-color: #E2EBFA;\n",
              "      box-shadow: 0px 1px 2px rgba(60, 64, 67, 0.3), 0px 1px 3px 1px rgba(60, 64, 67, 0.15);\n",
              "      fill: #174EA6;\n",
              "    }\n",
              "\n",
              "    [theme=dark] .colab-df-convert {\n",
              "      background-color: #3B4455;\n",
              "      fill: #D2E3FC;\n",
              "    }\n",
              "\n",
              "    [theme=dark] .colab-df-convert:hover {\n",
              "      background-color: #434B5C;\n",
              "      box-shadow: 0px 1px 3px 1px rgba(0, 0, 0, 0.15);\n",
              "      filter: drop-shadow(0px 1px 2px rgba(0, 0, 0, 0.3));\n",
              "      fill: #FFFFFF;\n",
              "    }\n",
              "  </style>\n",
              "\n",
              "      <script>\n",
              "        const buttonEl =\n",
              "          document.querySelector('#df-b4d3c6ae-b3a1-48d1-8e97-458042657004 button.colab-df-convert');\n",
              "        buttonEl.style.display =\n",
              "          google.colab.kernel.accessAllowed ? 'block' : 'none';\n",
              "\n",
              "        async function convertToInteractive(key) {\n",
              "          const element = document.querySelector('#df-b4d3c6ae-b3a1-48d1-8e97-458042657004');\n",
              "          const dataTable =\n",
              "            await google.colab.kernel.invokeFunction('convertToInteractive',\n",
              "                                                     [key], {});\n",
              "          if (!dataTable) return;\n",
              "\n",
              "          const docLinkHtml = 'Like what you see? Visit the ' +\n",
              "            '<a target=\"_blank\" href=https://colab.research.google.com/notebooks/data_table.ipynb>data table notebook</a>'\n",
              "            + ' to learn more about interactive tables.';\n",
              "          element.innerHTML = '';\n",
              "          dataTable['output_type'] = 'display_data';\n",
              "          await google.colab.output.renderOutput(dataTable, element);\n",
              "          const docLink = document.createElement('div');\n",
              "          docLink.innerHTML = docLinkHtml;\n",
              "          element.appendChild(docLink);\n",
              "        }\n",
              "      </script>\n",
              "    </div>\n",
              "  </div>\n",
              "  "
            ],
            "text/plain": [
              "   CulmenLength  CulmenDepth  FlipperLength  BodyMass  Species\n",
              "0          39.1         18.7          181.0    3750.0        0\n",
              "1          39.5         17.4          186.0    3800.0        0\n",
              "2          40.3         18.0          195.0    3250.0        0\n",
              "4          36.7         19.3          193.0    3450.0        0\n",
              "5          39.3         20.6          190.0    3650.0        0"
            ]
          },
          "execution_count": 1,
          "metadata": {},
          "output_type": "execute_result"
        }
      ],
      "source": [
        "import pandas as pd\n",
        "\n",
        "penguins = pd.read_csv('data/penguins.csv').dropna()\n",
        "penguins.head()"
      ]
    },
    {
      "cell_type": "markdown",
      "metadata": {
        "id": "KbgkFq-iyFfb"
      },
      "source": [
        "### Normalización de las features FlipperLength y BodyMass"
      ]
    },
    {
      "cell_type": "code",
      "execution_count": null,
      "metadata": {
        "colab": {
          "base_uri": "https://localhost:8080/",
          "height": 206
        },
        "id": "-UzaM3N72IU2",
        "outputId": "e011145f-ea9e-4583-accf-2ce8b043138b"
      },
      "outputs": [
        {
          "data": {
            "text/html": [
              "\n",
              "  <div id=\"df-f0508941-5669-4439-a2fd-14996feba43e\">\n",
              "    <div class=\"colab-df-container\">\n",
              "      <div>\n",
              "<style scoped>\n",
              "    .dataframe tbody tr th:only-of-type {\n",
              "        vertical-align: middle;\n",
              "    }\n",
              "\n",
              "    .dataframe tbody tr th {\n",
              "        vertical-align: top;\n",
              "    }\n",
              "\n",
              "    .dataframe thead th {\n",
              "        text-align: right;\n",
              "    }\n",
              "</style>\n",
              "<table border=\"1\" class=\"dataframe\">\n",
              "  <thead>\n",
              "    <tr style=\"text-align: right;\">\n",
              "      <th></th>\n",
              "      <th>CulmenLength</th>\n",
              "      <th>CulmenDepth</th>\n",
              "      <th>FlipperLength</th>\n",
              "      <th>BodyMass</th>\n",
              "      <th>Species</th>\n",
              "    </tr>\n",
              "  </thead>\n",
              "  <tbody>\n",
              "    <tr>\n",
              "      <th>274</th>\n",
              "      <td>45.2</td>\n",
              "      <td>14.8</td>\n",
              "      <td>21.2</td>\n",
              "      <td>52.00</td>\n",
              "      <td>1</td>\n",
              "    </tr>\n",
              "    <tr>\n",
              "      <th>251</th>\n",
              "      <td>51.1</td>\n",
              "      <td>16.5</td>\n",
              "      <td>22.5</td>\n",
              "      <td>52.50</td>\n",
              "      <td>1</td>\n",
              "    </tr>\n",
              "    <tr>\n",
              "      <th>279</th>\n",
              "      <td>45.4</td>\n",
              "      <td>18.7</td>\n",
              "      <td>18.8</td>\n",
              "      <td>35.25</td>\n",
              "      <td>2</td>\n",
              "    </tr>\n",
              "    <tr>\n",
              "      <th>89</th>\n",
              "      <td>38.9</td>\n",
              "      <td>18.8</td>\n",
              "      <td>19.0</td>\n",
              "      <td>36.00</td>\n",
              "      <td>0</td>\n",
              "    </tr>\n",
              "    <tr>\n",
              "      <th>336</th>\n",
              "      <td>51.9</td>\n",
              "      <td>19.5</td>\n",
              "      <td>20.6</td>\n",
              "      <td>39.50</td>\n",
              "      <td>2</td>\n",
              "    </tr>\n",
              "  </tbody>\n",
              "</table>\n",
              "</div>\n",
              "      <button class=\"colab-df-convert\" onclick=\"convertToInteractive('df-f0508941-5669-4439-a2fd-14996feba43e')\"\n",
              "              title=\"Convert this dataframe to an interactive table.\"\n",
              "              style=\"display:none;\">\n",
              "        \n",
              "  <svg xmlns=\"http://www.w3.org/2000/svg\" height=\"24px\"viewBox=\"0 0 24 24\"\n",
              "       width=\"24px\">\n",
              "    <path d=\"M0 0h24v24H0V0z\" fill=\"none\"/>\n",
              "    <path d=\"M18.56 5.44l.94 2.06.94-2.06 2.06-.94-2.06-.94-.94-2.06-.94 2.06-2.06.94zm-11 1L8.5 8.5l.94-2.06 2.06-.94-2.06-.94L8.5 2.5l-.94 2.06-2.06.94zm10 10l.94 2.06.94-2.06 2.06-.94-2.06-.94-.94-2.06-.94 2.06-2.06.94z\"/><path d=\"M17.41 7.96l-1.37-1.37c-.4-.4-.92-.59-1.43-.59-.52 0-1.04.2-1.43.59L10.3 9.45l-7.72 7.72c-.78.78-.78 2.05 0 2.83L4 21.41c.39.39.9.59 1.41.59.51 0 1.02-.2 1.41-.59l7.78-7.78 2.81-2.81c.8-.78.8-2.07 0-2.86zM5.41 20L4 18.59l7.72-7.72 1.47 1.35L5.41 20z\"/>\n",
              "  </svg>\n",
              "      </button>\n",
              "      \n",
              "  <style>\n",
              "    .colab-df-container {\n",
              "      display:flex;\n",
              "      flex-wrap:wrap;\n",
              "      gap: 12px;\n",
              "    }\n",
              "\n",
              "    .colab-df-convert {\n",
              "      background-color: #E8F0FE;\n",
              "      border: none;\n",
              "      border-radius: 50%;\n",
              "      cursor: pointer;\n",
              "      display: none;\n",
              "      fill: #1967D2;\n",
              "      height: 32px;\n",
              "      padding: 0 0 0 0;\n",
              "      width: 32px;\n",
              "    }\n",
              "\n",
              "    .colab-df-convert:hover {\n",
              "      background-color: #E2EBFA;\n",
              "      box-shadow: 0px 1px 2px rgba(60, 64, 67, 0.3), 0px 1px 3px 1px rgba(60, 64, 67, 0.15);\n",
              "      fill: #174EA6;\n",
              "    }\n",
              "\n",
              "    [theme=dark] .colab-df-convert {\n",
              "      background-color: #3B4455;\n",
              "      fill: #D2E3FC;\n",
              "    }\n",
              "\n",
              "    [theme=dark] .colab-df-convert:hover {\n",
              "      background-color: #434B5C;\n",
              "      box-shadow: 0px 1px 3px 1px rgba(0, 0, 0, 0.15);\n",
              "      filter: drop-shadow(0px 1px 2px rgba(0, 0, 0, 0.3));\n",
              "      fill: #FFFFFF;\n",
              "    }\n",
              "  </style>\n",
              "\n",
              "      <script>\n",
              "        const buttonEl =\n",
              "          document.querySelector('#df-f0508941-5669-4439-a2fd-14996feba43e button.colab-df-convert');\n",
              "        buttonEl.style.display =\n",
              "          google.colab.kernel.accessAllowed ? 'block' : 'none';\n",
              "\n",
              "        async function convertToInteractive(key) {\n",
              "          const element = document.querySelector('#df-f0508941-5669-4439-a2fd-14996feba43e');\n",
              "          const dataTable =\n",
              "            await google.colab.kernel.invokeFunction('convertToInteractive',\n",
              "                                                     [key], {});\n",
              "          if (!dataTable) return;\n",
              "\n",
              "          const docLinkHtml = 'Like what you see? Visit the ' +\n",
              "            '<a target=\"_blank\" href=https://colab.research.google.com/notebooks/data_table.ipynb>data table notebook</a>'\n",
              "            + ' to learn more about interactive tables.';\n",
              "          element.innerHTML = '';\n",
              "          dataTable['output_type'] = 'display_data';\n",
              "          await google.colab.output.renderOutput(dataTable, element);\n",
              "          const docLink = document.createElement('div');\n",
              "          docLink.innerHTML = docLinkHtml;\n",
              "          element.appendChild(docLink);\n",
              "        }\n",
              "      </script>\n",
              "    </div>\n",
              "  </div>\n",
              "  "
            ],
            "text/plain": [
              "     CulmenLength  CulmenDepth  FlipperLength  BodyMass  Species\n",
              "274          45.2         14.8           21.2     52.00        1\n",
              "251          51.1         16.5           22.5     52.50        1\n",
              "279          45.4         18.7           18.8     35.25        2\n",
              "89           38.9         18.8           19.0     36.00        0\n",
              "336          51.9         19.5           20.6     39.50        2"
            ]
          },
          "execution_count": 2,
          "metadata": {},
          "output_type": "execute_result"
        }
      ],
      "source": [
        "penguins['FlipperLength'] = penguins['FlipperLength']/10\n",
        "penguins['BodyMass'] = penguins['BodyMass']/100\n",
        "\n",
        "penguins.sample(5)"
      ]
    },
    {
      "cell_type": "markdown",
      "metadata": {
        "id": "81DqG09JyKLw"
      },
      "source": [
        "### Oversampling para incrementar el tamaño del dataset"
      ]
    },
    {
      "cell_type": "code",
      "execution_count": null,
      "metadata": {
        "colab": {
          "base_uri": "https://localhost:8080/",
          "height": 363
        },
        "id": "OCzMxoxW2pxm",
        "outputId": "162c3bfc-2028-4dd2-d400-bccfef8f51a2"
      },
      "outputs": [
        {
          "data": {
            "text/html": [
              "\n",
              "  <div id=\"df-732ddb71-a306-4026-b0e1-f1d71500ec8f\">\n",
              "    <div class=\"colab-df-container\">\n",
              "      <div>\n",
              "<style scoped>\n",
              "    .dataframe tbody tr th:only-of-type {\n",
              "        vertical-align: middle;\n",
              "    }\n",
              "\n",
              "    .dataframe tbody tr th {\n",
              "        vertical-align: top;\n",
              "    }\n",
              "\n",
              "    .dataframe thead th {\n",
              "        text-align: right;\n",
              "    }\n",
              "</style>\n",
              "<table border=\"1\" class=\"dataframe\">\n",
              "  <thead>\n",
              "    <tr style=\"text-align: right;\">\n",
              "      <th></th>\n",
              "      <th>CulmenLength</th>\n",
              "      <th>CulmenDepth</th>\n",
              "      <th>FlipperLength</th>\n",
              "      <th>BodyMass</th>\n",
              "      <th>Species</th>\n",
              "    </tr>\n",
              "  </thead>\n",
              "  <tbody>\n",
              "    <tr>\n",
              "      <th>82</th>\n",
              "      <td>36.7</td>\n",
              "      <td>18.8</td>\n",
              "      <td>18.7</td>\n",
              "      <td>38.00</td>\n",
              "      <td>0</td>\n",
              "    </tr>\n",
              "    <tr>\n",
              "      <th>148</th>\n",
              "      <td>36.0</td>\n",
              "      <td>17.8</td>\n",
              "      <td>19.5</td>\n",
              "      <td>34.50</td>\n",
              "      <td>0</td>\n",
              "    </tr>\n",
              "    <tr>\n",
              "      <th>297</th>\n",
              "      <td>48.5</td>\n",
              "      <td>17.5</td>\n",
              "      <td>19.1</td>\n",
              "      <td>34.00</td>\n",
              "      <td>2</td>\n",
              "    </tr>\n",
              "    <tr>\n",
              "      <th>222</th>\n",
              "      <td>47.7</td>\n",
              "      <td>15.0</td>\n",
              "      <td>21.6</td>\n",
              "      <td>47.50</td>\n",
              "      <td>1</td>\n",
              "    </tr>\n",
              "    <tr>\n",
              "      <th>192</th>\n",
              "      <td>42.7</td>\n",
              "      <td>13.7</td>\n",
              "      <td>20.8</td>\n",
              "      <td>39.50</td>\n",
              "      <td>1</td>\n",
              "    </tr>\n",
              "    <tr>\n",
              "      <th>78</th>\n",
              "      <td>36.2</td>\n",
              "      <td>16.1</td>\n",
              "      <td>18.7</td>\n",
              "      <td>35.50</td>\n",
              "      <td>0</td>\n",
              "    </tr>\n",
              "    <tr>\n",
              "      <th>243</th>\n",
              "      <td>52.2</td>\n",
              "      <td>17.1</td>\n",
              "      <td>22.8</td>\n",
              "      <td>54.00</td>\n",
              "      <td>1</td>\n",
              "    </tr>\n",
              "    <tr>\n",
              "      <th>147</th>\n",
              "      <td>36.6</td>\n",
              "      <td>18.4</td>\n",
              "      <td>18.4</td>\n",
              "      <td>34.75</td>\n",
              "      <td>0</td>\n",
              "    </tr>\n",
              "    <tr>\n",
              "      <th>257</th>\n",
              "      <td>46.8</td>\n",
              "      <td>16.1</td>\n",
              "      <td>21.5</td>\n",
              "      <td>55.00</td>\n",
              "      <td>1</td>\n",
              "    </tr>\n",
              "    <tr>\n",
              "      <th>127</th>\n",
              "      <td>41.5</td>\n",
              "      <td>18.3</td>\n",
              "      <td>19.5</td>\n",
              "      <td>43.00</td>\n",
              "      <td>0</td>\n",
              "    </tr>\n",
              "  </tbody>\n",
              "</table>\n",
              "</div>\n",
              "      <button class=\"colab-df-convert\" onclick=\"convertToInteractive('df-732ddb71-a306-4026-b0e1-f1d71500ec8f')\"\n",
              "              title=\"Convert this dataframe to an interactive table.\"\n",
              "              style=\"display:none;\">\n",
              "        \n",
              "  <svg xmlns=\"http://www.w3.org/2000/svg\" height=\"24px\"viewBox=\"0 0 24 24\"\n",
              "       width=\"24px\">\n",
              "    <path d=\"M0 0h24v24H0V0z\" fill=\"none\"/>\n",
              "    <path d=\"M18.56 5.44l.94 2.06.94-2.06 2.06-.94-2.06-.94-.94-2.06-.94 2.06-2.06.94zm-11 1L8.5 8.5l.94-2.06 2.06-.94-2.06-.94L8.5 2.5l-.94 2.06-2.06.94zm10 10l.94 2.06.94-2.06 2.06-.94-2.06-.94-.94-2.06-.94 2.06-2.06.94z\"/><path d=\"M17.41 7.96l-1.37-1.37c-.4-.4-.92-.59-1.43-.59-.52 0-1.04.2-1.43.59L10.3 9.45l-7.72 7.72c-.78.78-.78 2.05 0 2.83L4 21.41c.39.39.9.59 1.41.59.51 0 1.02-.2 1.41-.59l7.78-7.78 2.81-2.81c.8-.78.8-2.07 0-2.86zM5.41 20L4 18.59l7.72-7.72 1.47 1.35L5.41 20z\"/>\n",
              "  </svg>\n",
              "      </button>\n",
              "      \n",
              "  <style>\n",
              "    .colab-df-container {\n",
              "      display:flex;\n",
              "      flex-wrap:wrap;\n",
              "      gap: 12px;\n",
              "    }\n",
              "\n",
              "    .colab-df-convert {\n",
              "      background-color: #E8F0FE;\n",
              "      border: none;\n",
              "      border-radius: 50%;\n",
              "      cursor: pointer;\n",
              "      display: none;\n",
              "      fill: #1967D2;\n",
              "      height: 32px;\n",
              "      padding: 0 0 0 0;\n",
              "      width: 32px;\n",
              "    }\n",
              "\n",
              "    .colab-df-convert:hover {\n",
              "      background-color: #E2EBFA;\n",
              "      box-shadow: 0px 1px 2px rgba(60, 64, 67, 0.3), 0px 1px 3px 1px rgba(60, 64, 67, 0.15);\n",
              "      fill: #174EA6;\n",
              "    }\n",
              "\n",
              "    [theme=dark] .colab-df-convert {\n",
              "      background-color: #3B4455;\n",
              "      fill: #D2E3FC;\n",
              "    }\n",
              "\n",
              "    [theme=dark] .colab-df-convert:hover {\n",
              "      background-color: #434B5C;\n",
              "      box-shadow: 0px 1px 3px 1px rgba(0, 0, 0, 0.15);\n",
              "      filter: drop-shadow(0px 1px 2px rgba(0, 0, 0, 0.3));\n",
              "      fill: #FFFFFF;\n",
              "    }\n",
              "  </style>\n",
              "\n",
              "      <script>\n",
              "        const buttonEl =\n",
              "          document.querySelector('#df-732ddb71-a306-4026-b0e1-f1d71500ec8f button.colab-df-convert');\n",
              "        buttonEl.style.display =\n",
              "          google.colab.kernel.accessAllowed ? 'block' : 'none';\n",
              "\n",
              "        async function convertToInteractive(key) {\n",
              "          const element = document.querySelector('#df-732ddb71-a306-4026-b0e1-f1d71500ec8f');\n",
              "          const dataTable =\n",
              "            await google.colab.kernel.invokeFunction('convertToInteractive',\n",
              "                                                     [key], {});\n",
              "          if (!dataTable) return;\n",
              "\n",
              "          const docLinkHtml = 'Like what you see? Visit the ' +\n",
              "            '<a target=\"_blank\" href=https://colab.research.google.com/notebooks/data_table.ipynb>data table notebook</a>'\n",
              "            + ' to learn more about interactive tables.';\n",
              "          element.innerHTML = '';\n",
              "          dataTable['output_type'] = 'display_data';\n",
              "          await google.colab.output.renderOutput(dataTable, element);\n",
              "          const docLink = document.createElement('div');\n",
              "          docLink.innerHTML = docLinkHtml;\n",
              "          element.appendChild(docLink);\n",
              "        }\n",
              "      </script>\n",
              "    </div>\n",
              "  </div>\n",
              "  "
            ],
            "text/plain": [
              "     CulmenLength  CulmenDepth  FlipperLength  BodyMass  Species\n",
              "82           36.7         18.8           18.7     38.00        0\n",
              "148          36.0         17.8           19.5     34.50        0\n",
              "297          48.5         17.5           19.1     34.00        2\n",
              "222          47.7         15.0           21.6     47.50        1\n",
              "192          42.7         13.7           20.8     39.50        1\n",
              "78           36.2         16.1           18.7     35.50        0\n",
              "243          52.2         17.1           22.8     54.00        1\n",
              "147          36.6         18.4           18.4     34.75        0\n",
              "257          46.8         16.1           21.5     55.00        1\n",
              "127          41.5         18.3           19.5     43.00        0"
            ]
          },
          "execution_count": 3,
          "metadata": {},
          "output_type": "execute_result"
        }
      ],
      "source": [
        "for i in range(1,3):\n",
        "  penguins = penguins.append(penguins)\n",
        "\n",
        "sample = penguins.sample(10)\n",
        "sample"
      ]
    },
    {
      "cell_type": "markdown",
      "metadata": {
        "id": "Iz27Y6_AyPHQ"
      },
      "source": [
        "### Conversor para visualizar el nombre de las especies segun su código en el dataset"
      ]
    },
    {
      "cell_type": "code",
      "execution_count": null,
      "metadata": {
        "colab": {
          "base_uri": "https://localhost:8080/"
        },
        "id": "sa3ZaDFG2rD_",
        "outputId": "664b213a-590f-49fd-a6de-0a3ed29fb3ed"
      },
      "outputs": [
        {
          "name": "stdout",
          "output_type": "stream",
          "text": [
            "['CulmenLength' 'CulmenDepth' 'FlipperLength' 'BodyMass' 'Species'] SpeciesName\n",
            "[ 50.2 14.3 21.8 57.0 1 ] Gentoo\n",
            "[ 45.1 14.4 21.0 44.0 1 ] Gentoo\n",
            "[ 51.5 16.3 23.0 55.0 1 ] Gentoo\n",
            "[ 46.7 15.3 21.9 52.0 1 ] Gentoo\n",
            "[ 50.0 15.3 22.0 55.5 1 ] Gentoo\n",
            "[ 37.6 19.1 19.4 37.5 0 ] Adelie\n",
            "[ 49.8 17.3 19.8 36.75 2 ] Chinstrap\n",
            "[ 36.9 18.6 18.9 35.0 0 ] Adelie\n",
            "[ 52.1 17.0 23.0 55.5 1 ] Gentoo\n",
            "[ 49.0 19.5 21.0 39.5 2 ] Chinstrap\n"
          ]
        }
      ],
      "source": [
        "penguin_classes = ['Adelie', 'Gentoo', 'Chinstrap']\n",
        "print(sample.columns[0:5].values, 'SpeciesName')\n",
        "for index, row in penguins.sample(10).iterrows():\n",
        "    print('[',row[0], row[1], row[2],row[3], int(row[4]), ']',penguin_classes[int(row[-1])])"
      ]
    },
    {
      "cell_type": "markdown",
      "metadata": {
        "id": "b0UriaZryTUu"
      },
      "source": [
        "### Dividir el dataset en 70% training y 30% test"
      ]
    },
    {
      "cell_type": "code",
      "execution_count": null,
      "metadata": {
        "colab": {
          "base_uri": "https://localhost:8080/"
        },
        "id": "fVblsOKC2taY",
        "outputId": "98d0ace7-48ef-457c-86e3-635f0daac55a"
      },
      "outputs": [
        {
          "name": "stdout",
          "output_type": "stream",
          "text": [
            "Training Set: 957, Test Set: 411 \n",
            "\n",
            "Sample of features and labels:\n",
            "[51.1 16.5 22.5 52.5] 1 (Gentoo)\n",
            "[50.7 19.7 20.3 40.5] 2 (Chinstrap)\n",
            "[49.5 16.2 22.9 58. ] 1 (Gentoo)\n",
            "[39.3 20.6 19.  36.5] 0 (Adelie)\n",
            "[42.5 20.7 19.7 45. ] 0 (Adelie)\n",
            "[50.  15.3 22.  55.5] 1 (Gentoo)\n",
            "[50.2  18.7  19.8  37.75] 2 (Chinstrap)\n",
            "[50.7 19.7 20.3 40.5] 2 (Chinstrap)\n",
            "[49.1  14.5  21.2  46.25] 1 (Gentoo)\n",
            "[43.2 16.6 18.7 29. ] 2 (Chinstrap)\n",
            "[38.8  17.6  19.1  32.75] 0 (Adelie)\n",
            "[37.8 17.1 18.6 33. ] 0 (Adelie)\n",
            "[45.8 14.2 21.9 47. ] 1 (Gentoo)\n",
            "[43.8 13.9 20.8 43. ] 1 (Gentoo)\n",
            "[36.  17.1 18.7 37. ] 0 (Adelie)\n",
            "[43.3 13.4 20.9 44. ] 1 (Gentoo)\n",
            "[36.  18.5 18.6 31. ] 0 (Adelie)\n",
            "[41.1  19.   18.2  34.25] 0 (Adelie)\n",
            "[33.1 16.1 17.8 29. ] 0 (Adelie)\n",
            "[40.9 13.7 21.4 46.5] 1 (Gentoo)\n",
            "[45.2 17.8 19.8 39.5] 2 (Chinstrap)\n",
            "[48.4 14.6 21.3 58.5] 1 (Gentoo)\n",
            "[43.6 13.9 21.7 49. ] 1 (Gentoo)\n",
            "[38.5  17.9  19.   33.25] 0 (Adelie)\n"
          ]
        }
      ],
      "source": [
        "from sklearn.model_selection import train_test_split\n",
        "\n",
        "features = ['CulmenLength','CulmenDepth','FlipperLength','BodyMass']\n",
        "label = 'Species'\n",
        "\n",
        "x_train, x_test, y_train, y_test = train_test_split(penguins[features].values,\n",
        "                                                    penguins[label].values,\n",
        "                                                    test_size=0.30,\n",
        "                                                    random_state=0)\n",
        "\n",
        "print('Training Set: %d, Test Set: %d \\n' % (len(x_train), len(x_test)))\n",
        "print(\"Sample of features and labels:\")\n",
        "\n",
        "for n in range(0,24):\n",
        "    print(x_train[n], y_train[n], '(' + penguin_classes[y_train[n]] + ')')"
      ]
    },
    {
      "cell_type": "markdown",
      "metadata": {
        "id": "C848RxPEyZpF"
      },
      "source": [
        "### Instalar e importar las librerias de TensorFlow"
      ]
    },
    {
      "cell_type": "code",
      "execution_count": null,
      "metadata": {
        "id": "L97pHFYK2uS5"
      },
      "outputs": [],
      "source": [
        "!pip install --upgrade tensorflow"
      ]
    },
    {
      "cell_type": "code",
      "execution_count": null,
      "metadata": {
        "colab": {
          "base_uri": "https://localhost:8080/"
        },
        "id": "bfSPcWppw2MO",
        "outputId": "979fba79-285e-41bc-ada7-89f4d7e58632"
      },
      "outputs": [
        {
          "name": "stdout",
          "output_type": "stream",
          "text": [
            "Libraries imported.\n",
            "Keras version: 2.11.0\n",
            "TensorFlow version: 2.11.0\n"
          ]
        }
      ],
      "source": [
        "import tensorflow\n",
        "from tensorflow import keras\n",
        "from tensorflow.keras import models\n",
        "from tensorflow.keras.models import Sequential\n",
        "from tensorflow.keras.layers import Dense\n",
        "from tensorflow.keras import utils\n",
        "from tensorflow.keras import optimizers\n",
        "\n",
        "tensorflow.random.set_seed(0)\n",
        "\n",
        "print(\"Libraries imported.\")\n",
        "print('Keras version:',keras.__version__)\n",
        "print('TensorFlow version:',tensorflow.__version__)"
      ]
    },
    {
      "cell_type": "markdown",
      "metadata": {
        "id": "VBRvbnuPymaF"
      },
      "source": [
        "### Preparar dataset para TensorFlow"
      ]
    },
    {
      "cell_type": "code",
      "execution_count": null,
      "metadata": {
        "colab": {
          "base_uri": "https://localhost:8080/"
        },
        "id": "sn3pDWPe9Bkh",
        "outputId": "0fb5cf88-7321-4e7d-fa3f-0a81876aeab1"
      },
      "outputs": [
        {
          "name": "stdout",
          "output_type": "stream",
          "text": [
            "Dataset ready...\n"
          ]
        }
      ],
      "source": [
        "\n",
        "# Establecer data type 'float32' en feauters\n",
        "x_train = x_train.astype('float32')\n",
        "x_test = x_test.astype('float32')\n",
        "\n",
        "# Establecer data type para labels de categorias\n",
        "y_train = utils.to_categorical(y_train)\n",
        "y_test = utils.to_categorical(y_test)\n",
        "print('Dataset ready...')"
      ]
    },
    {
      "cell_type": "markdown",
      "metadata": {
        "id": "JqVEEvTSyrSD"
      },
      "source": [
        "### Crear y entrenar la red neuronal"
      ]
    },
    {
      "cell_type": "code",
      "execution_count": null,
      "metadata": {
        "colab": {
          "base_uri": "https://localhost:8080/"
        },
        "id": "ZwXacrog9CMj",
        "outputId": "44f301ae-aad1-4d9a-e0c9-0d2d8737e972"
      },
      "outputs": [
        {
          "name": "stdout",
          "output_type": "stream",
          "text": [
            "Model: \"sequential\"\n",
            "_________________________________________________________________\n",
            " Layer (type)                Output Shape              Param #   \n",
            "=================================================================\n",
            " dense (Dense)               (None, 10)                50        \n",
            "                                                                 \n",
            " dense_1 (Dense)             (None, 10)                110       \n",
            "                                                                 \n",
            " dense_2 (Dense)             (None, 3)                 33        \n",
            "                                                                 \n",
            "=================================================================\n",
            "Total params: 193\n",
            "Trainable params: 193\n",
            "Non-trainable params: 0\n",
            "_________________________________________________________________\n",
            "None\n"
          ]
        }
      ],
      "source": [
        "## Definir una red de clasificasión\n",
        "### Numero de nodos de capa ocultos\n",
        "hl = 10\n",
        "\n",
        "model = Sequential()\n",
        "model.add(Dense(hl, input_dim=len(features), activation='relu'))\n",
        "model.add(Dense(hl, input_dim=hl, activation='relu'))\n",
        "model.add(Dense(len(penguin_classes), input_dim=hl, activation='softmax'))\n",
        "\n",
        "print(model.summary())"
      ]
    },
    {
      "cell_type": "code",
      "execution_count": null,
      "metadata": {
        "colab": {
          "base_uri": "https://localhost:8080/"
        },
        "id": "0dC6juYB9CeY",
        "outputId": "e0fa2ce4-a689-477c-bb51-380fdb2064fd"
      },
      "outputs": [
        {
          "name": "stdout",
          "output_type": "stream",
          "text": [
            "Epoch 1/50\n",
            "96/96 [==============================] - 6s 6ms/step - loss: 4.2471 - accuracy: 0.4838 - val_loss: 0.4094 - val_accuracy: 0.9513\n",
            "Epoch 2/50\n",
            "96/96 [==============================] - 0s 5ms/step - loss: 0.3013 - accuracy: 0.9582 - val_loss: 0.2220 - val_accuracy: 0.9708\n",
            "Epoch 3/50\n",
            "96/96 [==============================] - 0s 4ms/step - loss: 0.1888 - accuracy: 0.9718 - val_loss: 0.1489 - val_accuracy: 0.9708\n",
            "Epoch 4/50\n",
            "96/96 [==============================] - 0s 5ms/step - loss: 0.1374 - accuracy: 0.9676 - val_loss: 0.1117 - val_accuracy: 0.9732\n",
            "Epoch 5/50\n",
            "96/96 [==============================] - 0s 5ms/step - loss: 0.1067 - accuracy: 0.9739 - val_loss: 0.1355 - val_accuracy: 0.9684\n",
            "Epoch 6/50\n",
            "96/96 [==============================] - 0s 4ms/step - loss: 0.0876 - accuracy: 0.9801 - val_loss: 0.0825 - val_accuracy: 0.9805\n",
            "Epoch 7/50\n",
            "96/96 [==============================] - 0s 4ms/step - loss: 0.0733 - accuracy: 0.9864 - val_loss: 0.0687 - val_accuracy: 0.9903\n",
            "Epoch 8/50\n",
            "96/96 [==============================] - 0s 4ms/step - loss: 0.0651 - accuracy: 0.9822 - val_loss: 0.0599 - val_accuracy: 0.9805\n",
            "Epoch 9/50\n",
            "96/96 [==============================] - 0s 5ms/step - loss: 0.0602 - accuracy: 0.9843 - val_loss: 0.0531 - val_accuracy: 0.9927\n",
            "Epoch 10/50\n",
            "96/96 [==============================] - 0s 5ms/step - loss: 0.0512 - accuracy: 0.9875 - val_loss: 0.0540 - val_accuracy: 0.9781\n",
            "Epoch 11/50\n",
            "96/96 [==============================] - 0s 4ms/step - loss: 0.0462 - accuracy: 0.9906 - val_loss: 0.0453 - val_accuracy: 0.9927\n",
            "Epoch 12/50\n",
            "96/96 [==============================] - 0s 5ms/step - loss: 0.0469 - accuracy: 0.9875 - val_loss: 0.0450 - val_accuracy: 0.9903\n",
            "Epoch 13/50\n",
            "96/96 [==============================] - 1s 6ms/step - loss: 0.0396 - accuracy: 0.9864 - val_loss: 0.0393 - val_accuracy: 0.9927\n",
            "Epoch 14/50\n",
            "96/96 [==============================] - 1s 6ms/step - loss: 0.0424 - accuracy: 0.9864 - val_loss: 0.0389 - val_accuracy: 0.9927\n",
            "Epoch 15/50\n",
            "96/96 [==============================] - 1s 6ms/step - loss: 0.0388 - accuracy: 0.9896 - val_loss: 0.0437 - val_accuracy: 0.9805\n",
            "Epoch 16/50\n",
            "96/96 [==============================] - 1s 6ms/step - loss: 0.0483 - accuracy: 0.9843 - val_loss: 0.0440 - val_accuracy: 0.9903\n",
            "Epoch 17/50\n",
            "96/96 [==============================] - 0s 4ms/step - loss: 0.0372 - accuracy: 0.9896 - val_loss: 0.0335 - val_accuracy: 0.9927\n",
            "Epoch 18/50\n",
            "96/96 [==============================] - 0s 4ms/step - loss: 0.0344 - accuracy: 0.9885 - val_loss: 0.0373 - val_accuracy: 0.9903\n",
            "Epoch 19/50\n",
            "96/96 [==============================] - 0s 4ms/step - loss: 0.0377 - accuracy: 0.9843 - val_loss: 0.0338 - val_accuracy: 0.9927\n",
            "Epoch 20/50\n",
            "96/96 [==============================] - 0s 4ms/step - loss: 0.0353 - accuracy: 0.9864 - val_loss: 0.0367 - val_accuracy: 0.9854\n",
            "Epoch 21/50\n",
            "96/96 [==============================] - 0s 4ms/step - loss: 0.0326 - accuracy: 0.9885 - val_loss: 0.0393 - val_accuracy: 0.9854\n",
            "Epoch 22/50\n",
            "96/96 [==============================] - 0s 4ms/step - loss: 0.0333 - accuracy: 0.9864 - val_loss: 0.0560 - val_accuracy: 0.9781\n",
            "Epoch 23/50\n",
            "96/96 [==============================] - 0s 4ms/step - loss: 0.0333 - accuracy: 0.9906 - val_loss: 0.0330 - val_accuracy: 0.9903\n",
            "Epoch 24/50\n",
            "96/96 [==============================] - 0s 4ms/step - loss: 0.0279 - accuracy: 0.9916 - val_loss: 0.0314 - val_accuracy: 0.9878\n",
            "Epoch 25/50\n",
            "96/96 [==============================] - 0s 5ms/step - loss: 0.0291 - accuracy: 0.9927 - val_loss: 0.0312 - val_accuracy: 0.9854\n",
            "Epoch 26/50\n",
            "96/96 [==============================] - 0s 5ms/step - loss: 0.0332 - accuracy: 0.9854 - val_loss: 0.0251 - val_accuracy: 0.9976\n",
            "Epoch 27/50\n",
            "96/96 [==============================] - 0s 4ms/step - loss: 0.0258 - accuracy: 0.9916 - val_loss: 0.0259 - val_accuracy: 0.9927\n",
            "Epoch 28/50\n",
            "96/96 [==============================] - 0s 4ms/step - loss: 0.0247 - accuracy: 0.9948 - val_loss: 0.0258 - val_accuracy: 0.9927\n",
            "Epoch 29/50\n",
            "96/96 [==============================] - 0s 4ms/step - loss: 0.0283 - accuracy: 0.9885 - val_loss: 0.0224 - val_accuracy: 0.9927\n",
            "Epoch 30/50\n",
            "96/96 [==============================] - 0s 5ms/step - loss: 0.0219 - accuracy: 0.9958 - val_loss: 0.0442 - val_accuracy: 0.9781\n",
            "Epoch 31/50\n",
            "96/96 [==============================] - 0s 4ms/step - loss: 0.0454 - accuracy: 0.9843 - val_loss: 0.0263 - val_accuracy: 0.9927\n",
            "Epoch 32/50\n",
            "96/96 [==============================] - 0s 5ms/step - loss: 0.0240 - accuracy: 0.9937 - val_loss: 0.0222 - val_accuracy: 0.9927\n",
            "Epoch 33/50\n",
            "96/96 [==============================] - 0s 4ms/step - loss: 0.0278 - accuracy: 0.9906 - val_loss: 0.0208 - val_accuracy: 0.9976\n",
            "Epoch 34/50\n",
            "96/96 [==============================] - 0s 4ms/step - loss: 0.0257 - accuracy: 0.9916 - val_loss: 0.0535 - val_accuracy: 0.9732\n",
            "Epoch 35/50\n",
            "96/96 [==============================] - 0s 4ms/step - loss: 0.0236 - accuracy: 0.9916 - val_loss: 0.0219 - val_accuracy: 0.9976\n",
            "Epoch 36/50\n",
            "96/96 [==============================] - 0s 4ms/step - loss: 0.0218 - accuracy: 0.9937 - val_loss: 0.0208 - val_accuracy: 0.9927\n",
            "Epoch 37/50\n",
            "96/96 [==============================] - 0s 4ms/step - loss: 0.0252 - accuracy: 0.9885 - val_loss: 0.0218 - val_accuracy: 0.9927\n",
            "Epoch 38/50\n",
            "96/96 [==============================] - 0s 5ms/step - loss: 0.0208 - accuracy: 0.9937 - val_loss: 0.0188 - val_accuracy: 0.9927\n",
            "Epoch 39/50\n",
            "96/96 [==============================] - 0s 5ms/step - loss: 0.0269 - accuracy: 0.9937 - val_loss: 0.0185 - val_accuracy: 0.9927\n",
            "Epoch 40/50\n",
            "96/96 [==============================] - 0s 4ms/step - loss: 0.0291 - accuracy: 0.9843 - val_loss: 0.0226 - val_accuracy: 0.9927\n",
            "Epoch 41/50\n",
            "96/96 [==============================] - 1s 5ms/step - loss: 0.0225 - accuracy: 0.9896 - val_loss: 0.0177 - val_accuracy: 0.9976\n",
            "Epoch 42/50\n",
            "96/96 [==============================] - 1s 6ms/step - loss: 0.0256 - accuracy: 0.9896 - val_loss: 0.0177 - val_accuracy: 0.9927\n",
            "Epoch 43/50\n",
            "96/96 [==============================] - 1s 6ms/step - loss: 0.0232 - accuracy: 0.9896 - val_loss: 0.0177 - val_accuracy: 0.9976\n",
            "Epoch 44/50\n",
            "96/96 [==============================] - 1s 6ms/step - loss: 0.0227 - accuracy: 0.9906 - val_loss: 0.0254 - val_accuracy: 0.9927\n",
            "Epoch 45/50\n",
            "96/96 [==============================] - 0s 4ms/step - loss: 0.0197 - accuracy: 0.9948 - val_loss: 0.0203 - val_accuracy: 0.9927\n",
            "Epoch 46/50\n",
            "96/96 [==============================] - 0s 4ms/step - loss: 0.0197 - accuracy: 0.9927 - val_loss: 0.0164 - val_accuracy: 0.9976\n",
            "Epoch 47/50\n",
            "96/96 [==============================] - 0s 4ms/step - loss: 0.0268 - accuracy: 0.9875 - val_loss: 0.0167 - val_accuracy: 0.9903\n",
            "Epoch 48/50\n",
            "96/96 [==============================] - 0s 4ms/step - loss: 0.0222 - accuracy: 0.9896 - val_loss: 0.0304 - val_accuracy: 0.9854\n",
            "Epoch 49/50\n",
            "96/96 [==============================] - 0s 5ms/step - loss: 0.0196 - accuracy: 0.9927 - val_loss: 0.0319 - val_accuracy: 0.9878\n",
            "Epoch 50/50\n",
            "96/96 [==============================] - 0s 4ms/step - loss: 0.0212 - accuracy: 0.9875 - val_loss: 0.0243 - val_accuracy: 0.9854\n"
          ]
        }
      ],
      "source": [
        "# Hyper-parametros para el optimizador\n",
        "lr_value = 0.001\n",
        "opt = optimizers.Adam(learning_rate=lr_value)\n",
        "\n",
        "model.compile(loss='categorical_crossentropy',\n",
        "              optimizer=opt,\n",
        "              metrics=['accuracy'])\n",
        "\n",
        "# Entrenar el modelo 50 epochs usando lotes de 10 observasiones y usando el\n",
        "# dataset de test para validación.\n",
        "num_epochs = 50\n",
        "history = model.fit(x_train,\n",
        "                    y_train,\n",
        "                    epochs=num_epochs,\n",
        "                    batch_size=10,\n",
        "                    validation_data=(x_test, y_test))"
      ]
    },
    {
      "cell_type": "code",
      "execution_count": null,
      "metadata": {
        "colab": {
          "base_uri": "https://localhost:8080/",
          "height": 279
        },
        "id": "BN2f1QiU9C1t",
        "outputId": "8b5acdda-0051-4df0-df42-724d99b3497b"
      },
      "outputs": [
        {
          "data": {
            "image/png": "[encoded data removed]",
            "text/plain": [
              "<Figure size 432x288 with 1 Axes>"
            ]
          },
          "metadata": {
            "needs_background": "light"
          },
          "output_type": "display_data"
        }
      ],
      "source": [
        "# Graficar las metricas 'loss' y 'val_loss'\n",
        "%matplotlib inline\n",
        "from matplotlib import pyplot as plt\n",
        "\n",
        "epoch_nums = range(1,num_epochs+1)\n",
        "training_loss = history.history[\"loss\"]\n",
        "validation_loss = history.history[\"val_loss\"]\n",
        "\n",
        "plt.plot(epoch_nums, training_loss)\n",
        "plt.plot(epoch_nums, validation_loss)\n",
        "plt.xlabel('Epoch')\n",
        "plt.ylabel('Loss')\n",
        "plt.legend(['training', 'validation'], loc='upper right')\n",
        "plt.show()"
      ]
    },
    {
      "cell_type": "code",
      "execution_count": null,
      "metadata": {
        "colab": {
          "base_uri": "https://localhost:8080/"
        },
        "id": "EGYcBFz4G26J",
        "outputId": "b314aec8-c788-4491-e902-682a5da36798"
      },
      "outputs": [
        {
          "name": "stdout",
          "output_type": "stream",
          "text": [
            "------------\n",
            "Weights:\n",
            " [[-0.40756017 -0.33749914 -0.15140367 -0.0782199   0.56505835  0.7010637\n",
            "   0.06103975 -0.58620274  0.5789609   0.04754043]\n",
            " [ 0.03189412 -0.5407158  -0.30287102  0.27338547 -0.29158118  0.07958414\n",
            "   0.14106673  0.6663705  -0.05765342  0.5970806 ]\n",
            " [ 0.35398677  0.19350423  0.59569013  0.70063347  0.54767966 -0.54683536\n",
            "   0.6390655  -0.07931391  0.2861259  -0.29192206]\n",
            " [ 0.46794292  0.6475793  -0.6250504  -0.248626    0.38586783 -0.41620615\n",
            "  -0.59757024  0.48158     0.21765228 -0.6430977 ]] \n",
            "Biases:\n",
            " [-0.00672153 -0.01678248  0.          0.19585784 -0.08281565 -0.05104898\n",
            "  0.          0.2907666   0.0429667   0.        ]\n",
            "------------\n",
            "Weights:\n",
            " [[ 1.5223575e-01 -1.0591174e-01  2.8380525e-01 -7.1420759e-02\n",
            "  -4.4875509e-01  4.8120272e-01 -4.2607066e-01 -5.1192987e-01\n",
            "  -1.3401058e-01 -2.6972616e-01]\n",
            " [-5.1056528e-01 -3.2549921e-01 -5.9284151e-01  7.7153462e-01\n",
            "   3.0713463e-01 -4.4430649e-01  2.9421371e-01  3.3872733e-01\n",
            "   4.1924357e-02 -3.6706248e-01]\n",
            " [ 1.0937518e-01  2.7557969e-01 -6.9118768e-02 -3.1597841e-01\n",
            "   4.8462117e-01 -5.1362419e-01 -2.4836165e-01 -1.6391024e-01\n",
            "  -6.1467022e-02  4.7460389e-01]\n",
            " [-5.6597495e-01  5.6641144e-01 -6.7834929e-02 -8.9736708e-02\n",
            "   3.1599158e-01  3.2633501e-01 -6.3280678e-01 -8.1031442e-01\n",
            "   1.2476671e-01  5.2096444e-01]\n",
            " [-3.9002374e-01  5.1568121e-02  4.8521417e-01  4.9705431e-01\n",
            "  -5.2076465e-01 -4.2773432e-01  2.9033297e-01 -2.5079590e-01\n",
            "  -3.9533889e-01  4.0627053e-01]\n",
            " [ 3.3677778e-01  2.4121618e-02  6.1585563e-01 -2.7684668e-01\n",
            "   2.2700304e-01  3.0886650e-01 -2.8076139e-01  3.5304651e-01\n",
            "  -4.3689945e-01 -6.0219896e-01]\n",
            " [-5.4068029e-01  3.1149471e-01 -6.3074410e-02 -3.0247700e-01\n",
            "   3.9264894e-01  3.8118637e-01  4.6849418e-01 -6.1166286e-04\n",
            "  -2.6984939e-01  4.0484184e-01]\n",
            " [ 5.3374135e-01  2.8781438e-01 -5.1202148e-01 -7.7069825e-01\n",
            "  -2.3843390e-01  4.0668577e-01 -7.8501821e-01 -8.0296290e-01\n",
            "   4.9824703e-01  1.5486734e-01]\n",
            " [ 3.4966877e-01  4.1082707e-01 -4.7295374e-01 -4.3540001e-01\n",
            "   9.3138337e-02 -1.2842667e-01  2.0745517e-01  5.9730339e-01\n",
            "   9.0972424e-02 -1.4506409e-01]\n",
            " [-8.9604139e-02  2.6752913e-01 -3.1136334e-02  2.2857231e-01\n",
            "   5.8024108e-02  4.9721479e-01 -3.4763706e-01  4.7571623e-01\n",
            "  -4.7898340e-01  3.4221536e-01]] \n",
            "Biases:\n",
            " [-0.02675331  0.09756915 -0.10559794 -0.06045709  0.          0.\n",
            " -0.0669025  -0.13471478  0.          0.17715508]\n",
            "------------\n",
            "Weights:\n",
            " [[ 0.35346198 -0.36091742 -0.4762485 ]\n",
            " [ 0.7615724  -0.0894464   0.44253698]\n",
            " [-0.1867738  -0.21951972  0.5398384 ]\n",
            " [-1.1275434   0.68881834 -0.3523528 ]\n",
            " [ 0.38756025  0.63387656 -0.0797109 ]\n",
            " [ 0.01896161 -0.5404415   0.64038956]\n",
            " [-0.04061721  0.49183902  0.03187412]\n",
            " [-0.70337135  0.5415941   0.84007734]\n",
            " [ 0.40631235  0.08552122  0.3156618 ]\n",
            " [-0.17245318 -0.30612826 -0.62767696]] \n",
            "Biases:\n",
            " [ 0.20896438  0.00128208 -0.14425401]\n"
          ]
        }
      ],
      "source": [
        "# Ver los pesos (weights) y sesgos (biases) aprendidos\n",
        "for layer in model.layers:\n",
        "    weights = layer.get_weights()[0]\n",
        "    biases = layer.get_weights()[1]\n",
        "    print('------------\\nWeights:\\n',weights,'\\nBiases:\\n', biases)"
      ]
    },
    {
      "cell_type": "code",
      "execution_count": null,
      "metadata": {
        "colab": {
          "base_uri": "https://localhost:8080/",
          "height": 335
        },
        "id": "liPuB5Q9JF0Q",
        "outputId": "f1963860-a382-49c4-e74e-2dedcfdce8da"
      },
      "outputs": [
        {
          "name": "stdout",
          "output_type": "stream",
          "text": [
            "13/13 [==============================] - 0s 2ms/step\n"
          ]
        },
        {
          "data": {
            "image/png": "[encoded data removed]",
            "text/plain": [
              "<Figure size 432x288 with 2 Axes>"
            ]
          },
          "metadata": {
            "needs_background": "light"
          },
          "output_type": "display_data"
        }
      ],
      "source": [
        "# Evaluar la performance del modelo con una matriz de confusión\n",
        "import numpy as np\n",
        "from sklearn.metrics import confusion_matrix\n",
        "import matplotlib.pyplot as plt\n",
        "%matplotlib inline\n",
        "\n",
        "class_probabilities = model.predict(x_test)\n",
        "predictions = np.argmax(class_probabilities, axis=1)\n",
        "true_labels = np.argmax(y_test, axis=1)\n",
        "\n",
        "# Graficar la matriz de confusión\n",
        "cm = confusion_matrix(true_labels, predictions)\n",
        "plt.imshow(cm, interpolation=\"nearest\", cmap=plt.cm.Blues)\n",
        "plt.colorbar()\n",
        "tick_marks = np.arange(len(penguin_classes))\n",
        "plt.xticks(tick_marks, penguin_classes, rotation=85)\n",
        "plt.yticks(tick_marks, penguin_classes)\n",
        "plt.xlabel(\"Predicted Species\")\n",
        "plt.ylabel(\"Actual Species\")\n",
        "plt.show()"
      ]
    },
    {
      "cell_type": "markdown",
      "metadata": {
        "id": "u1_o1qHrzLtM"
      },
      "source": [
        "### Exportar Modelo y Probarlo"
      ]
    },
    {
      "cell_type": "code",
      "execution_count": null,
      "metadata": {
        "colab": {
          "base_uri": "https://localhost:8080/"
        },
        "id": "N7oEiVZ3JFvn",
        "outputId": "93658f24-8c9f-4520-8b9b-ba6c1eaf2b73"
      },
      "outputs": [
        {
          "name": "stdout",
          "output_type": "stream",
          "text": [
            "model saved as models/penguin-classifier.h5\n"
          ]
        }
      ],
      "source": [
        "# Guardar el modelo entrenado\n",
        "modelFileName = 'models/penguin-classifier.h5'\n",
        "model.save(modelFileName)\n",
        "del model  # borrar las variables del modelo existente\n",
        "print('model saved as', modelFileName)"
      ]
    },
    {
      "cell_type": "code",
      "execution_count": null,
      "metadata": {
        "colab": {
          "base_uri": "https://localhost:8080/"
        },
        "id": "XVDY3kPwJFqU",
        "outputId": "27af0101-5ab6-4900-c430-c3da94dbca37"
      },
      "outputs": [
        {
          "name": "stdout",
          "output_type": "stream",
          "text": [
            "New sample: [[50.4 15.3 20.  50. ]]\n",
            "1/1 [==============================] - 0s 46ms/step\n",
            "Gentoo\n"
          ]
        }
      ],
      "source": [
        "# Importar el modelo guardado\n",
        "model = models.load_model(modelFileName)\n",
        "\n",
        "# Crear un nuevo array de features\n",
        "# (caracteristicas de un nuevo pinguino observado)\n",
        "x_new = np.array([[50.4,15.3,20,50]])\n",
        "print ('New sample: {}'.format(x_new))\n",
        "\n",
        "# Usar el modelo para predecir el tipo de pinguino\n",
        "class_probabilities = model.predict(x_new)\n",
        "predictions = np.argmax(class_probabilities, axis=1)\n",
        "\n",
        "print(penguin_classes[predictions[0]])"
      ]
    }
  ],
  "metadata": {
    "accelerator": "GPU",
    "colab": {
      "provenance": []
    },
    "gpuClass": "standard",
    "kernelspec": {
      "display_name": "Python 3",
      "language": "python",
      "name": "python3"
    },
    "language_info": {
      "name": "python",
      "version": "3.11.0"
    },
    "vscode": {
      "interpreter": {
        "hash": "5238573367df39f7286bb46f9ff5f08f63a01a80960060ce41e3c79b190280fa"
      }
    }
  },
  "nbformat": 4,
  "nbformat_minor": 0
}
